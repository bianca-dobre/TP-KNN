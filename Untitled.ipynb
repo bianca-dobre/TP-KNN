{
 "cells": [
  {
   "cell_type": "code",
   "execution_count": 1,
   "id": "4f348031-de0c-4954-a924-7ae3f2a7dfa1",
   "metadata": {},
   "outputs": [],
   "source": [
    "import os\n",
    "import cv2\n",
    "import numpy as np\n",
    "from sklearn.neighbors import KNeighborsClassifier\n",
    "from sklearn.metrics import classification_report\n",
    "from skimage.feature import local_binary_pattern\n"
   ]
  },
  {
   "cell_type": "code",
   "execution_count": 9,
   "id": "d21043a4-bfce-4f36-b07d-ef7ccddbbdba",
   "metadata": {},
   "outputs": [],
   "source": [
    "emotions = {\n",
    "    'angry': 0,\n",
    "    'disgust': 1,\n",
    "    'fear': 2,\n",
    "    'happy': 3,\n",
    "    'sad': 4,\n",
    "    'surprise': 5,\n",
    "    'neutral': 6\n",
    "}\n",
    "\n",
    "def load_dataset(folder_path):\n",
    "    X = [] #images\n",
    "    y = [] #labels\n",
    "    for emotion in os.listdir(folder_path):\n",
    "        emotion_path = os.path.join(folder_path, emotion)\n",
    "        if not os.path.isdir(emotion_path):\n",
    "            continue\n",
    "        label = emotions.get(emotion.lower())\n",
    "        if label is None:\n",
    "            continue\n",
    "        for image_name in os.listdir(emotion_path):\n",
    "            image_path = os.path.join(emotion_path, image_name)\n",
    "            image = cv2.imread(image_path, cv2.IMREAD_GRAYSCALE)\n",
    "            if image is None:\n",
    "                continue\n",
    "            image = cv2.resize(image, (48, 48))\n",
    "            X.append(image)\n",
    "            y.append(label)\n",
    "    return np.array(X), np.array(y)\n"
   ]
  },
  {
   "cell_type": "code",
   "execution_count": 14,
   "id": "d63d7f84-594e-4543-838a-90e0149d9c8a",
   "metadata": {},
   "outputs": [],
   "source": [
    "def extract_lbp_features(images):\n",
    "    features = []\n",
    "    for image in images:\n",
    "        lbp = local_binary_pattern(image, P=8, R=1, method='uniform')\n",
    "        h, _ = np.histogram(lbp.ravel(), bins=np.arange(0, 10), range=(0, 9))\n",
    "        h = h.astype(\"float\") / (h.sum() + 1e-7)\n",
    "        features.append(h)\n",
    "    return np.array(features)\n"
   ]
  },
  {
   "cell_type": "code",
   "execution_count": 15,
   "id": "cda79af2-b638-4374-9448-3748259f4e21",
   "metadata": {},
   "outputs": [
    {
     "name": "stdout",
     "output_type": "stream",
     "text": [
      "loading training data...\n",
      "loading testing data...\n",
      "extracting features using LBP...\n",
      "training KNN classifier...\n",
      "classification report:\n",
      "\n",
      "              precision    recall  f1-score   support\n",
      "\n",
      "           0       0.17      0.34      0.22       958\n",
      "           1       0.15      0.25      0.18       111\n",
      "           2       0.16      0.22      0.18      1024\n",
      "           3       0.29      0.29      0.29      1774\n",
      "           4       0.19      0.10      0.14      1247\n",
      "           5       0.34      0.19      0.25       831\n",
      "           6       0.21      0.11      0.15      1233\n",
      "\n",
      "    accuracy                           0.21      7178\n",
      "   macro avg       0.22      0.22      0.20      7178\n",
      "weighted avg       0.23      0.21      0.21      7178\n",
      "\n"
     ]
    }
   ],
   "source": [
    "print(\"loading training data...\")\n",
    "X_train_image, y_train = load_dataset(\"database/train\")\n",
    "print(\"loading testing data...\")\n",
    "X_test_image, y_test = load_dataset(\"database/test\")\n",
    "\n",
    "print(\"extracting features using LBP...\")\n",
    "X_train = extract_lbp_features(X_train_image)\n",
    "X_test = extract_lbp_features(X_test_image)\n",
    "\n",
    "print(\"training KNN classifier...\")\n",
    "model = KNeighborsClassifier(n_neighbors=3)\n",
    "model.fit(X_train, y_train)\n",
    "\n",
    "y_pred = model.predict(X_test)\n",
    "\n",
    "print(\"classification report:\\n\")\n",
    "print(classification_report(y_test, y_pred))\n"
   ]
  },
  {
   "cell_type": "code",
   "execution_count": null,
   "id": "571c733b-b899-4be2-b65b-865c46a2e502",
   "metadata": {},
   "outputs": [],
   "source": []
  }
 ],
 "metadata": {
  "kernelspec": {
   "display_name": "Python 3 (ipykernel)",
   "language": "python",
   "name": "python3"
  },
  "language_info": {
   "codemirror_mode": {
    "name": "ipython",
    "version": 3
   },
   "file_extension": ".py",
   "mimetype": "text/x-python",
   "name": "python",
   "nbconvert_exporter": "python",
   "pygments_lexer": "ipython3",
   "version": "3.11.7"
  }
 },
 "nbformat": 4,
 "nbformat_minor": 5
}
